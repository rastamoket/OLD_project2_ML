{
 "cells": [
  {
   "cell_type": "code",
   "execution_count": null,
   "metadata": {},
   "outputs": [],
   "source": [
    "import numpy as np\n",
    "import pandas as pd\n",
    "import re # Used for the conversion of \"r##_c##\" in only the numbers --> TODO: check where it comes from\n",
    "from IPython.display import display\n",
    "from helpers import *\n",
    "from play_with_data import *\n",
    "from pre_processing import *\n",
    "from matrix_factorization import *\n",
    "from cross_validation import *\n",
    "import scipy.sparse as sp # In order to use sparse \n",
    "# Predictors imported in performance order (best to worst, according to http://surpriselib.com/)\n",
    "from surprise import SVDpp\n",
    "from surprise import KNNBaseline\n",
    "from surprise import SVD\n",
    "from surprise import SlopeOne\n",
    "from surprise import BaselineOnly\n",
    "from surprise import KNNWithMeans\n",
    "from surprise import NMF\n",
    "from surprise import CoClustering\n",
    "from surprise import KNNBasic\n",
    "from surprise import KNNWithZScore # not scored --> to be tested quickly\n",
    "from surprise import dataset\n",
    "from surprise import Dataset\n",
    "from surprise import evaluate, print_perf\n",
    "from surprise import GridSearch\n",
    "\n",
    "from __future__ import (absolute_import, division, print_function,\n",
    "                        unicode_literals)\n",
    "%load_ext autoreload\n",
    "%autoreload 2"
   ]
  },
  {
   "cell_type": "markdown",
   "metadata": {},
   "source": [
    "# Done before the exercise\n",
    "- This will create a numpy matrix from the data given \"data_train.csv\"\n",
    "- Then we will use this to show some statistics about the data"
   ]
  },
  {
   "cell_type": "code",
   "execution_count": null,
   "metadata": {},
   "outputs": [],
   "source": [
    "#********* Load the given data **********\n",
    "r_c, x = load_data_old('./data_train.csv') #r_c contain the position (user, movie) and x contain the ratings"
   ]
  },
  {
   "cell_type": "code",
   "execution_count": null,
   "metadata": {},
   "outputs": [],
   "source": [
    "#********* Creation of a matrix of the data ********\n",
    "nUser = 10000\n",
    "nItem = 1000\n",
    "data = np.zeros([nUser, nItem]) # These numbers were given\n",
    "\n",
    "for ind, i in enumerate(r_c): # Loop over all the ID, in order to create a numpy matrix\n",
    "    data[int(re.findall('\\d+', i)[0])-1, int(re.findall('\\d+', i)[1])-1] = x[ind] # Use the information in the ID (row, col) to create the matrix\n",
    "\n",
    "\n"
   ]
  },
  {
   "cell_type": "code",
   "execution_count": null,
   "metadata": {},
   "outputs": [],
   "source": [
    "#********** Data preview ************\n",
    "# Check if there is any missed data \n",
    "# It was told us that we have the data from 10'000 users for 1000 films, but we don't have all these data\n",
    "info_general(nUser, nItem, x, data)\n",
    "print('\\n')\n",
    "info_ratings(data)\n"
   ]
  },
  {
   "cell_type": "markdown",
   "metadata": {},
   "source": [
    "With this barplot, we can see that ratings are not distributed in an uniform way, this may suggest that there is a bias in the rating matrix that has to be considered."
   ]
  },
  {
   "cell_type": "markdown",
   "metadata": {},
   "source": [
    "# Done after the exercise"
   ]
  },
  {
   "cell_type": "code",
   "execution_count": null,
   "metadata": {},
   "outputs": [],
   "source": [
    "#******** Creation of a sparse matrix of the data **********\n",
    "ratings = load_data('./data_train.csv')"
   ]
  },
  {
   "cell_type": "code",
   "execution_count": null,
   "metadata": {},
   "outputs": [],
   "source": [
    "#***** Data preview *********\n",
    "num_items_per_user, num_users_per_item = plot_raw_data(ratings) # Original code is from the course, ex10 'plots.py'\n",
    "print(\"Maximum number of items per user:\\t{}\\nMinimum number of items per user:\\t{}\\n\".format(np.max(num_items_per_user), np.min(num_items_per_user)))\n",
    "print(\"Maximum number of users per item:\\t{}\\nMinimum number of users per item:\\t{}\".format(np.max(num_users_per_item), np.min(num_users_per_item)))"
   ]
  },
  {
   "cell_type": "markdown",
   "metadata": {},
   "source": [
    "## Importing the testset"
   ]
  },
  {
   "cell_type": "code",
   "execution_count": null,
   "metadata": {},
   "outputs": [],
   "source": [
    "test = load_data('./sample_submission.csv')"
   ]
  },
  {
   "cell_type": "markdown",
   "metadata": {},
   "source": [
    "# Done so far\n",
    "- Preview of the data\n",
    "- Pre-processing:\n",
    "    - Choosing only the \"valid ratings\", the users and items that contains more than min_num_ratings\n",
    "    - Splitting the data in test and train, by choosing 90% of the ratings from the valid_ratings and only the non-zeros values"
   ]
  },
  {
   "cell_type": "code",
   "execution_count": null,
   "metadata": {},
   "outputs": [],
   "source": [
    "ratings_surpr = formating_data_surprise(ratings)\n",
    "ratings_surpr.split(n_folds=3)\n"
   ]
  },
  {
   "cell_type": "code",
   "execution_count": null,
   "metadata": {},
   "outputs": [],
   "source": [
    "################ Evaluate all the algorithms ########################\n",
    "algos = [SVDpp(),KNNBaseline(),SVD(),SlopeOne(),BaselineOnly(),KNNWithZScore()]\n",
    "perf = {}\n",
    "algo_str = ['SVDpp', 'KNN Baseline','SVD', 'Slope One', 'BaselineOnly', 'KNN with Z score']\n",
    "\n",
    "for i,algo in enumerate(algos): #for algo in algos:\n",
    "    # Evaluate performances of our algorithm on the dataset.\n",
    "    perf[algo_str[i]] = evaluate(algo, ratings_surpr, measures=['RMSE'])\n",
    "    print_perf(perf[algo_str[i]])\n"
   ]
  },
  {
   "cell_type": "code",
   "execution_count": null,
   "metadata": {},
   "outputs": [],
   "source": [
    "np.save('perf_dictionary.npy', perf)"
   ]
  },
  {
   "cell_type": "markdown",
   "metadata": {},
   "source": [
    "# GRID SEARCH"
   ]
  },
  {
   "cell_type": "code",
   "execution_count": null,
   "metadata": {},
   "outputs": [],
   "source": [
    "param_grid = {'init_mean': [0,2,4], \n",
    "              'init_std_dev': [0.1, 0.3, 0.5],\n",
    "              'lr_all': [0.002, 0.004, 0.006, 0.008, 0.01],\n",
    "              'reg_all': [0.01, 0.03, 0.05, 0.07, 0.1]}\n",
    "\n",
    "grid_search = GridSearch(SVDpp, param_grid, measures=['RMSE', 'FCP'],\n",
    "                         verbose=False)\n",
    "\n",
    "\n",
    "# First train an SVD algorithm on the movielens dataset.\n",
    "ratings_ = formating_data_surprise(ratings)\n",
    "#trainset = ratings_.build_full_trainset()\n",
    "\n",
    "ratings_.split(n_folds=3)\n",
    "grid_search.evaluate(ratings_)\n",
    "\n",
    "# best RMSE score\n",
    "print(grid_search.best_score['RMSE'])\n",
    "# >>> 0.96117566386\n",
    "\n",
    "# combination of parameters that gave the best RMSE score\n",
    "print(grid_search.best_params['RMSE'])\n",
    "# >>> {'reg_all': 0.4, 'lr_all': 0.005, 'n_epochs': 10}"
   ]
  },
  {
   "cell_type": "markdown",
   "metadata": {},
   "source": [
    "## Majority Creation\n"
   ]
  },
  {
   "cell_type": "code",
   "execution_count": null,
   "metadata": {},
   "outputs": [],
   "source": [
    "#******** Creation of a sparse matrix of the data ******\n",
    "ratings = load_data('./data_train.csv')\n",
    "train_ratings, test_ratings =split_data(ratings, prob_test=0.15) # splitting in train and test set \n",
    "\n",
    "\n",
    "########### Define: algo, dataset (trainset ##############\n",
    "dataF_train, ratings_train = formating_data_surprise(train_ratings, True) # Create the Dataset for surprise (training set)\n",
    "\n",
    "trainset_algo = ratings_train.build_full_trainset() # Build trainset\n",
    "trainset_pred = trainset_algo.build_testset() # Build iterable object in order to test \n",
    "\n",
    "# C'est notre test set donc utiliser plus tard\n",
    "ratings_test = formating_data_surprise(test_ratings)\n",
    "validationset = ratings_test.build_full_trainset()\n",
    "# -------------------------------------------------\n",
    "\n",
    "########## Train and test the algo ###########\n",
    "algorithm = [SVDpp(),KNNBaseline(),NMF(),SVD(),SlopeOne(),BaselineOnly(),KNNWithZScore()]\n",
    "\n",
    "prediction_df = dataF_train.copy()\n",
    "for i, algo in enumerate (algorithm):\n",
    "    \n",
    "    algo.train(trainset_algo) # Training of the algo\n",
    "    pred = algo.test(trainset_pred) # Make the prediction\n",
    "\n",
    "    ########## Creation of the lists: row_users, col_movies, estim ########\n",
    "    estim = [] # initialization of the list estim\n",
    "\n",
    "    for p in pred: # To loop over the prediction done by the algo on the test set\n",
    "        estim.append(p.est) # fill this list with the ratings\n",
    "    \n",
    "    d = {'prediction' : pd.Series(estim)}\n",
    "    temp = pd.DataFrame(d)\n",
    "    prediction_df = pd.concat([prediction_df,temp], axis=1)\n",
    "    \n",
    "display(prediction_df.head())"
   ]
  },
  {
   "cell_type": "code",
   "execution_count": null,
   "metadata": {},
   "outputs": [],
   "source": [
    "second_step_dataset_df = prediction_df.copy() # Copy \n",
    "second_step_dataset_df = second_step_dataset_df.drop(second_step_dataset_df.columns[[0, 2]], axis=1) # In order to keep only the real ratings and then the predictions for all algos\n",
    "second_step_dataset_df.columns = ['Label','SVDpp','KNNBaseline','NMF','SVD','SlopeOne','BaselineOnly', 'KNNWithZScore'] # TODO: should be adapted\n",
    "display(second_step_dataset_df.head())\n",
    "np.save('predictions_allAlgos.csv', second_step_dataset_df)"
   ]
  },
  {
   "cell_type": "code",
   "execution_count": null,
   "metadata": {},
   "outputs": [],
   "source": [
    "# Cleaning the dataframe\n",
    "only_prediction_df = prediction_df['prediction'] # We only take the predictions of the different algorithms\n",
    "only_prediction_df = only_prediction_df.round() # We round the predictions.\n",
    "only_prediction_df.columns = ['SVDpp','KNNBaseline','NMF','SVD','SlopeOne','BaselineOnly','KNNWithZScore'] # Change on column name\n",
    "only_prediction_df['Majority'] = 0\n",
    "#display(only_prediction_df.head())"
   ]
  },
  {
   "cell_type": "code",
   "execution_count": null,
   "metadata": {},
   "outputs": [],
   "source": [
    "for i ,row in only_prediction_df.iterrows(): # We iterate over all the raws to analyse each prediction and chose the\n",
    "                                             # Majority of the prediction\n",
    "        \n",
    "    row_ = row.as_matrix() # Tranform row in np array\n",
    "    unique, counts = np.unique(row_, return_counts=True) # We get set of ratings and their respective count repetition\n",
    "    index_of_max = np.where(counts == np.max(counts)) # We select the index of the max count\n",
    "    max_ = unique[index_of_max]\n",
    "    if max_.shape[0]>1: # If there are same amount of max count, we chose the one with the highest score as we saw\n",
    "                        # that the rating distribution is shifter upwards there is \n",
    "        max_ = max_[-1]\n",
    "    only_prediction_df.loc[i,'Majority'] = max_\n",
    "\n",
    "display(only_prediction_df.head())"
   ]
  },
  {
   "cell_type": "code",
   "execution_count": null,
   "metadata": {},
   "outputs": [],
   "source": [
    "only_prediction_df.to_csv('only_pred.csv')\n",
    "prediction_df.to_csv('all_pred.csv')"
   ]
  },
  {
   "cell_type": "markdown",
   "metadata": {},
   "source": [
    "# For submission"
   ]
  },
  {
   "cell_type": "code",
   "execution_count": null,
   "metadata": {},
   "outputs": [],
   "source": [
    "########### Define: algo, dataset (trainset ##############\n",
    "ratings_ = formating_data_surprise(ratings)\n",
    "trainset = ratings_.build_full_trainset()\n"
   ]
  },
  {
   "cell_type": "code",
   "execution_count": null,
   "metadata": {},
   "outputs": [],
   "source": [
    "########### Define: testset ##############\n",
    "test_ratings_ = formating_data_surprise(test)\n",
    "test_trainset = test_ratings_.build_full_trainset()\n"
   ]
  },
  {
   "cell_type": "code",
   "execution_count": null,
   "metadata": {},
   "outputs": [],
   "source": [
    "testset = test_trainset.build_testset()"
   ]
  },
  {
   "cell_type": "code",
   "execution_count": null,
   "metadata": {},
   "outputs": [],
   "source": [
    "########## Train and test the algo ###########\n",
    "\n",
    "#n_epochs': 20, 'lr_all': 0.002, 'reg_all': 0.2\n",
    "\n",
    "#algorithm = SVD(n_epochs = 20, lr_all = 0.002, reg_all = 0.2)\n",
    "algorithm = SVD()\n",
    "algorithm.train(trainset)"
   ]
  },
  {
   "cell_type": "code",
   "execution_count": null,
   "metadata": {},
   "outputs": [],
   "source": [
    "pred = algorithm.test(testset)"
   ]
  },
  {
   "cell_type": "code",
   "execution_count": null,
   "metadata": {},
   "outputs": [],
   "source": [
    "########## Creation of the lists: row_users, col_movies, estim ########\n",
    "row_users = [] # initialization of the list row_users\n",
    "col_movies = [] # initialization of the list col_movies\n",
    "estim = [] # initialization of the list estim\n",
    "for p in pred: # To loop over the prediction done by the algo on the test set\n",
    "    row_users.append(p.uid) # fill this list with the indices of the users\n",
    "    col_movies.append(p.iid) # fill this list with the indices of the movies\n",
    "    estim.append(p.est) # fill this list with the ratings\n"
   ]
  },
  {
   "cell_type": "code",
   "execution_count": null,
   "metadata": {},
   "outputs": [],
   "source": [
    "######### Create the CSV files ##########\n",
    "name = 'SVD.csv' # Name of the file\n",
    "\n",
    "#estim = only_prediction_df['Majority'] # This is only here in order to use the estimation done previously\n",
    "\n",
    "#estim = prediction_df['prediction'].mean(axis = 1)\n",
    "#print(estim.shape)\n",
    "create_csv_submission(row_users, col_movies, estim, name) # To create the CSV file \n",
    "    "
   ]
  },
  {
   "cell_type": "code",
   "execution_count": null,
   "metadata": {},
   "outputs": [],
   "source": [
    "print(len(pred))"
   ]
  },
  {
   "cell_type": "code",
   "execution_count": null,
   "metadata": {},
   "outputs": [],
   "source": []
  },
  {
   "cell_type": "markdown",
   "metadata": {},
   "source": [
    "# DON'T CARE"
   ]
  },
  {
   "cell_type": "markdown",
   "metadata": {},
   "source": [
    "### Question\n",
    "\n",
    "   - Il est normal de mettre un threshold (min_num_ratings) parce qu'on veut un certain nombre de données pour ce prononcer quand à donner une note, ceci implique qu'on enlève des users et des items, du coup notre matrice des ratings va être plus petite. Quand on la remplis et on fait un submit, comment est-ce qu'on gére ça?\n",
    "       - Ici je suppose que c'est bien de faire la selection des ratings pour le train et test --> comme ceci on est pas ou moins biaisé par les movies et users qui n'ont que des 0 et qui donc n'apporte rien apart du \"bruit\"\n",
    "       - Pour le remplissage de ce que l'on doit submit j'ai fait une petite comparaison entre les data que l'on nous donne et ce qui se trouve dans le sample_submission, (enfin je vais le faire) "
   ]
  },
  {
   "cell_type": "code",
   "execution_count": null,
   "metadata": {},
   "outputs": [],
   "source": [
    "#********** Pre-processing **********\n",
    "min_num_ratings = 10 # or 15 this is based on the information given above\n",
    "ratings_valid = valid_ratings(ratings, num_items_per_user, num_users_per_item,min_num_ratings)\n",
    "train, test = split_data(ratings_valid) # This will put 90% of the items for the users that have at least one non-zero entry and the 10% in test\n"
   ]
  },
  {
   "cell_type": "code",
   "execution_count": null,
   "metadata": {},
   "outputs": [],
   "source": [
    "cross_validation_application(train ,False ,4,0.01, 20, 0.2, 0.3,1)"
   ]
  },
  {
   "cell_type": "code",
   "execution_count": null,
   "metadata": {},
   "outputs": [],
   "source": [
    "#********* Try ************\n",
    "#rmse = rmse_movie_mean(train, test)\n",
    "rmse = matrix_factorization_SGD(train, test)"
   ]
  },
  {
   "cell_type": "code",
   "execution_count": null,
   "metadata": {},
   "outputs": [],
   "source": [
    "rmse"
   ]
  }
 ],
 "metadata": {
  "kernelspec": {
   "display_name": "Python 3",
   "language": "python",
   "name": "python3"
  },
  "language_info": {
   "codemirror_mode": {
    "name": "ipython",
    "version": 3
   },
   "file_extension": ".py",
   "mimetype": "text/x-python",
   "name": "python",
   "nbconvert_exporter": "python",
   "pygments_lexer": "ipython3",
   "version": "3.6.3"
  }
 },
 "nbformat": 4,
 "nbformat_minor": 2
}
